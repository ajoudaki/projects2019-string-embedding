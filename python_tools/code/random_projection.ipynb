{
 "cells": [
  {
   "cell_type": "code",
   "execution_count": null,
   "metadata": {},
   "outputs": [],
   "source": [
    "import utility \n",
    "import numpy as np\n",
    "from importlib import reload\n",
    "reload(utility)\n",
    "import sys\n",
    "import time\n",
    "from tqdm import tqdm\n",
    "import matplotlib.pyplot as pl\n",
    "\n",
    "HOME = '/cluster/home/ajoudaki/projects2019-string-embedding/python_tools'\n",
    "\n",
    "file_name = 'seqs9'\n",
    "data_path = HOME + '/data/' + file_name + '.npz'\n",
    "result_path = HOME + '/results/' + file_name \n",
    "\n",
    "Res = np.load(data_path)\n",
    "\n",
    "\n",
    "seqs = Res['seqs']\n",
    "vals = Res['vals']\n",
    "options = Res['options']\n",
    "Op = (options[()])\n",
    "if int(file_name[4:])>=7:\n",
    "    gene_lens = Res['gene_lens']\n",
    "    num_seqs = Res['num_seqs']\n",
    "else:\n",
    "    num_seqs = [Op.num_seq]*Op.repeat\n",
    "\n",
    "print('num seqs = ', len(seqs), ' mean lenth of seqs = ', np.mean([len(seqs[i]) for i in range(len(seqs))]))\n",
    "print(Op)"
   ]
  },
  {
   "cell_type": "code",
   "execution_count": 11,
   "metadata": {},
   "outputs": [
    {
     "name": "stdout",
     "output_type": "stream",
     "text": [
      "computing the list of kmers and values \n"
     ]
    },
    {
     "name": "stderr",
     "output_type": "stream",
     "text": [
      "100%|██████████| 50/50 [00:00<00:00, 125.57it/s]\n"
     ]
    },
    {
     "name": "stdout",
     "output_type": "stream",
     "text": [
      " computing the projection\n"
     ]
    },
    {
     "name": "stderr",
     "output_type": "stream",
     "text": [
      "100%|██████████| 559685/559685 [00:00<00:00, 801643.33it/s]"
     ]
    },
    {
     "name": "stdout",
     "output_type": "stream",
     "text": [
      " computing the convolution\n"
     ]
    },
    {
     "name": "stderr",
     "output_type": "stream",
     "text": [
      "\n",
      "100%|██████████| 120/120 [00:03<00:00, 33.28it/s]\n"
     ]
    },
    {
     "name": "stdout",
     "output_type": "stream",
     "text": [
      "time to build 2 trees = 2.300187587738037\n",
      "nearest neighbours search:\n"
     ]
    },
    {
     "name": "stderr",
     "output_type": "stream",
     "text": [
      "100%|██████████| 111937/111937 [00:21<00:00, 5324.80it/s]"
     ]
    },
    {
     "name": "stdout",
     "output_type": "stream",
     "text": [
      "time search = 21.025116443634033\n"
     ]
    },
    {
     "name": "stderr",
     "output_type": "stream",
     "text": [
      "\n",
      "100%|██████████| 111937/111937 [00:17<00:00, 6288.48it/s]"
     ]
    },
    {
     "name": "stdout",
     "output_type": "stream",
     "text": [
      "evaluation time =  17.813982725143433\n",
      "folls possitive =  0.9981407308584594\n",
      "recall percentage  0.6871111111111111\n",
      "seq len =  11000 , num seqs =  50\n",
      "hit ratio:  0.001764385323887544\n"
     ]
    },
    {
     "name": "stderr",
     "output_type": "stream",
     "text": [
      "\n"
     ]
    }
   ],
   "source": [
    "proj_dim = 120\n",
    "k_small = 2 \n",
    "k_big = 100\n",
    "num_trees = 2\n",
    "num_neighbours = 200\n",
    "step_build = 5\n",
    "step_search = 5\n",
    "\n",
    "\n",
    "kmers, s_kmer_vals, kmer_pos, kmer_seq_id = utility.list_kmers_simple(seqs, vals = vals,  \n",
    "                                         k = k_small, addy = True, padding = int(k_big))\n",
    "kmer_vals = utility.get_kmver_vals(s_kmer_vals, k_big)\n",
    "build_indices = np.arange(0,len(kmers),step_build)\n",
    "search_indices = np.arange(0,len(kmers),step_search)\n",
    "\n",
    "convolved = utility.random_projection(kmers, k_big, proj_dim)\n",
    "\n",
    "knn_index = utility.build_index(convolved, build_indices, num_trees)\n",
    "NN,NN_dist = utility.knn_search_value(knn_index, convolved, search_indices, num_neighbours)\n",
    "    \n",
    "quad = utility.eval_results(search_indices, NN, kmers, kmer_vals, kmer_pos, kmer_seq_id, num_seqs, options)\n",
    "\n",
    "print('seq len = ', len(seqs[0]), ', num seqs = ', len(seqs))\n",
    "\n",
    "print('hit ratio: ', len(quad)/len(search_indices)/num_neighbours)"
   ]
  },
  {
   "cell_type": "code",
   "execution_count": 3,
   "metadata": {
    "collapsed": true
   },
   "outputs": [],
   "source": [
    "# print(Op)"
   ]
  }
 ],
 "metadata": {
  "kernelspec": {
   "display_name": "Python 3",
   "language": "python",
   "name": "python3"
  },
  "language_info": {
   "codemirror_mode": {
    "name": "ipython",
    "version": 3
   },
   "file_extension": ".py",
   "mimetype": "text/x-python",
   "name": "python",
   "nbconvert_exporter": "python",
   "pygments_lexer": "ipython3",
   "version": "3.6.1"
  }
 },
 "nbformat": 4,
 "nbformat_minor": 2
}
