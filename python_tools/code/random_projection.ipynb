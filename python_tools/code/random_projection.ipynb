{
 "cells": [
  {
   "cell_type": "code",
   "execution_count": 1,
   "metadata": {},
   "outputs": [],
   "source": [
    "import utility \n",
    "import numpy as np\n",
    "from importlib import reload\n",
    "reload(utility)\n",
    "import sys\n",
    "import time\n",
    "from tqdm import tqdm\n",
    "import matplotlib.pyplot as plt\n",
    "\n",
    "HOME = '/Users/amirjoudaki/Codes/string_embedding/python_tools'\n",
    "\n",
    "file_name = 'seqs11'\n",
    "data_path = HOME + '/data/' + file_name + '.npz'\n",
    "result_path = HOME + '/results/' + file_name + '.ann'\n",
    "\n",
    "Res = np.load(data_path)\n",
    "\n",
    "\n",
    "seqs = Res['seqs']\n",
    "vals = Res['vals']\n",
    "options = Res['options']\n",
    "Op = (options[()])\n",
    "if int(file_name[4:])>=7:\n",
    "    gene_lens = Res['gene_lens']\n",
    "    num_seqs = Res['num_seqs']\n",
    "else:\n",
    "    num_seqs = [Op.num_seq]*Op.repeat\n",
    "    "
   ]
  },
  {
   "cell_type": "code",
   "execution_count": 2,
   "metadata": {},
   "outputs": [
    {
     "name": "stdout",
     "output_type": "stream",
     "text": [
      "computing the list of kmers and values \n"
     ]
    },
    {
     "name": "stderr",
     "output_type": "stream",
     "text": [
      "100%|██████████| 10/10 [00:06<00:00,  1.70it/s]\n"
     ]
    },
    {
     "name": "stdout",
     "output_type": "stream",
     "text": [
      " computing the projection\n"
     ]
    },
    {
     "name": "stderr",
     "output_type": "stream",
     "text": [
      "100%|██████████| 10096131/10096131 [00:11<00:00, 844780.75it/s]"
     ]
    },
    {
     "name": "stdout",
     "output_type": "stream",
     "text": [
      " computing the convolution\n"
     ]
    },
    {
     "name": "stderr",
     "output_type": "stream",
     "text": [
      "\n",
      "100%|██████████| 120/120 [01:08<00:00,  1.90it/s]\n"
     ]
    },
    {
     "name": "stdout",
     "output_type": "stream",
     "text": [
      "time to build 3 trees = 236.66005086898804\n",
      "nearest neighbours search:\n"
     ]
    },
    {
     "name": "stderr",
     "output_type": "stream",
     "text": [
      "100%|██████████| 2019227/2019227 [39:37<00:00, 849.34it/s]  "
     ]
    },
    {
     "name": "stdout",
     "output_type": "stream",
     "text": [
      "time search = 2377.425081729889\n"
     ]
    },
    {
     "name": "stderr",
     "output_type": "stream",
     "text": [
      "\n",
      "100%|██████████| 2019227/2019227 [09:19<00:00, 3611.11it/s]\n"
     ]
    },
    {
     "name": "stdout",
     "output_type": "stream",
     "text": [
      "evaluation time =  559.3031358718872\n",
      "folls possitive =  0.9998828011009719\n",
      "recall percentage  0.623\n",
      "seq len =  1009224 , num seqs =  10\n",
      "hit ratio:  9.758437263368607e-05\n"
     ]
    }
   ],
   "source": [
    "proj_dim = 120\n",
    "k_small = 2 \n",
    "k_big = 100\n",
    "num_trees = 3\n",
    "num_neighbours = 200\n",
    "\n",
    "\n",
    "kmers, s_kmer_vals, kmer_pos, kmer_seq_id = utility.list_kmers_simple(seqs, vals = vals,  \n",
    "                                         k = k_small, addy = True, padding = int(k_big))\n",
    "kmer_vals = utility.get_kmver_vals(s_kmer_vals, k_big)\n",
    "\n",
    "convolved = utility.random_projection(kmers, k_big, proj_dim)\n",
    "\n",
    "knn_index = utility.build_index(convolved, range(len(kmers)), num_trees)\n",
    "# search_indices = np.nonzero(kmer_vals>0)[0]\n",
    "search_indices = [i for i in range(0,len(kmers),5)]\n",
    "NN,NN_dist = utility.knn_search(knn_index, search_indices, num_neighbours)\n",
    "    \n",
    "quad = utility.eval_results(search_indices, NN, kmers, kmer_vals, kmer_pos, kmer_seq_id, num_seqs, options)\n",
    "\n",
    "print('seq len = ', len(seqs[0]), ', num seqs = ', len(seqs))\n",
    "\n",
    "print('hit ratio: ', len(quad)/len(search_indices)/num_neighbours)"
   ]
  },
  {
   "cell_type": "code",
   "execution_count": 3,
   "metadata": {},
   "outputs": [],
   "source": [
    "# print(Op)"
   ]
  }
 ],
 "metadata": {
  "kernelspec": {
   "display_name": "Python 3",
   "language": "python",
   "name": "python3"
  },
  "language_info": {
   "codemirror_mode": {
    "name": "ipython",
    "version": 3
   },
   "file_extension": ".py",
   "mimetype": "text/x-python",
   "name": "python",
   "nbconvert_exporter": "python",
   "pygments_lexer": "ipython3",
   "version": "3.6.4"
  }
 },
 "nbformat": 4,
 "nbformat_minor": 2
}
