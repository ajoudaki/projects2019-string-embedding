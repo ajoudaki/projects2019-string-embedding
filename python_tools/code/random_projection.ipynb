{
 "cells": [
  {
   "cell_type": "code",
   "execution_count": 6,
   "metadata": {},
   "outputs": [
    {
     "name": "stdout",
     "output_type": "stream",
     "text": [
      "num seqs =  10  mean lenth of seqs =  900716.1\n",
      "{'mutation_rate': 0.1, 'gene_len': 100, 'num_genes': 200, 'padding': 2000, 'num_seq': 5, 'repeat': 2, 'geometric_p': 0.4, 'reverse_p': 0, 'gene_len2': 1000, 'num_seq2': 5, 'colored': False, 'print_values': False, 'print_seqs': False, 'save_directory': '../data/seqs8'}\n"
     ]
    }
   ],
   "source": [
    "import utility \n",
    "import numpy as np\n",
    "from importlib import reload\n",
    "reload(utility)\n",
    "import sys, os\n",
    "import time\n",
    "from tqdm import tqdm\n",
    "import matplotlib.pyplot as pl\n",
    "\n",
    "HOME = '/cluster/home/ajoudaki/projects2019-string-embedding/python_tools'\n",
    "\n",
    "file_name = 'seqs8'\n",
    "data_path = HOME + '/data/' + file_name + '.npz'\n",
    "result_path = HOME + '/results/' + file_name \n",
    "index_path = result_path + '/index/'\n",
    "search_path = result_path + '/search/'\n",
    "\n",
    "if not os.path.exists(result_path):\n",
    "    os.makedirs(result_path)\n",
    "if not os.path.exists(index_path):\n",
    "    os.makedirs(index_path)\n",
    "if not os.path.exists(search_path):\n",
    "    os.makedirs(search_path)\n",
    "\n",
    "\n",
    "Res = np.load(data_path)\n",
    "\n",
    "\n",
    "seqs = Res['seqs']\n",
    "vals = Res['vals']\n",
    "options = Res['options']\n",
    "Op = (options[()])\n",
    "if int(file_name[4:])>=7:\n",
    "    gene_lens = Res['gene_lens']\n",
    "    num_seqs = Res['num_seqs']\n",
    "else:\n",
    "    num_seqs = [Op.num_seq]*Op.repeat\n",
    "\n",
    "print('num seqs = ', len(seqs), ' mean lenth of seqs = ', np.mean([len(seqs[i]) for i in range(len(seqs))]))\n",
    "print(Op)"
   ]
  },
  {
   "cell_type": "code",
   "execution_count": null,
   "metadata": {},
   "outputs": [
    {
     "name": "stdout",
     "output_type": "stream",
     "text": [
      "computing the list of kmers and values \n"
     ]
    },
    {
     "name": "stderr",
     "output_type": "stream",
     "text": [
      "100%|██████████| 10/10 [00:06<00:00,  1.43it/s]\n"
     ]
    },
    {
     "name": "stdout",
     "output_type": "stream",
     "text": [
      " computing the projection\n"
     ]
    },
    {
     "name": "stderr",
     "output_type": "stream",
     "text": [
      "100%|██████████| 9009151/9009151 [00:11<00:00, 780091.95it/s]"
     ]
    },
    {
     "name": "stdout",
     "output_type": "stream",
     "text": [
      " computing the convolution\n"
     ]
    },
    {
     "name": "stderr",
     "output_type": "stream",
     "text": [
      "\n",
      "100%|██████████| 120/120 [01:31<00:00,  1.35it/s]\n"
     ]
    },
    {
     "name": "stdout",
     "output_type": "stream",
     "text": [
      "time to build 2 trees = 37.35229301452637\n",
      "nearest neighbours search:\n"
     ]
    },
    {
     "name": "stderr",
     "output_type": "stream",
     "text": [
      " 67%|██████▋   | 1214811/1801831 [09:23<02:25, 4033.17it/s]"
     ]
    }
   ],
   "source": [
    "proj_dim = 120\n",
    "k_small = 4 \n",
    "k_big = 100\n",
    "num_trees = 2\n",
    "num_neighbours = 200\n",
    "step_build = 5\n",
    "step_search = 5\n",
    "metric = 'euclidean'\n",
    "\n",
    "\n",
    "kmers, s_kmer_vals, kmer_pos, kmer_seq_id = utility.list_kmers_simple(seqs, vals = vals,  \n",
    "                                         k = k_small, addy = True, padding = int(k_big))\n",
    "kmer_vals = utility.get_kmver_vals(s_kmer_vals, k_big)\n",
    "build_indices = np.arange(0,len(kmers),step_build)\n",
    "search_indices = np.arange(0,len(kmers),step_search)\n",
    "\n",
    "convolved = utility.random_projection(kmers, k_big, proj_dim)\n",
    "\n",
    "knn_index = utility.build_index(matrix = convolved, \n",
    "                                indices = build_indices, \n",
    "                                num_trees = num_trees, \n",
    "                                metric = metric)\n",
    "\n",
    "knn_index.save(index_path + '0.ann')\n",
    "index = AnnoyIndex(proj_dim, metric= metric) \n",
    "index.load(index_path + '0.ann')\n",
    "NN,NN_dist = utility.knn_search_value(index, convolved, search_indices, num_neighbours)\n",
    "    \n",
    "quad = utility.eval_results(search_indices, NN, kmers, kmer_vals, kmer_pos, kmer_seq_id, num_seqs, options)\n",
    "\n",
    "\n",
    "print('hit ratio: ', len(quad)/len(search_indices)/num_neighbours)"
   ]
  },
  {
   "cell_type": "code",
   "execution_count": null,
   "metadata": {
    "collapsed": true
   },
   "outputs": [],
   "source": [
    "# print(Op)"
   ]
  }
 ],
 "metadata": {
  "kernelspec": {
   "display_name": "Python 3",
   "language": "python",
   "name": "python3"
  },
  "language_info": {
   "codemirror_mode": {
    "name": "ipython",
    "version": 3
   },
   "file_extension": ".py",
   "mimetype": "text/x-python",
   "name": "python",
   "nbconvert_exporter": "python",
   "pygments_lexer": "ipython3",
   "version": "3.6.1"
  }
 },
 "nbformat": 4,
 "nbformat_minor": 2
}
