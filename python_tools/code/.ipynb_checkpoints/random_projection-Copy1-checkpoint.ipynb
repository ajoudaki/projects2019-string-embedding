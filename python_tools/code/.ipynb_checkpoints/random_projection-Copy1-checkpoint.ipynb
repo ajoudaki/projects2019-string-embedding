{
 "cells": [
  {
   "cell_type": "code",
   "execution_count": 5,
   "metadata": {},
   "outputs": [
    {
     "name": "stdout",
     "output_type": "stream",
     "text": [
      "{'mutation_rate': 0.2, 'gene_len': 100, 'num_genes': 10, 'padding': 500, 'num_seq': 10, 'repeat': 5, 'colored': False, 'print_values': False, 'print_seqs': False, 'save_directory': '../data/seqs1'}\n",
      "seq len =  11000\n",
      "num seqs =  50\n"
     ]
    }
   ],
   "source": [
    "import utility \n",
    "import numpy as np\n",
    "from importlib import reload\n",
    "reload(utility)\n",
    "import sys\n",
    "import time\n",
    "from tqdm import tqdm\n",
    "import matplotlib.pyplot as plt\n",
    "\n",
    "HOME = '/cluster/home/ajoudaki/projects2019-string-embedding/python_tools'\n",
    "\n",
    "file_name = 'seqs1'\n",
    "data_path = HOME + '/data/' + file_name + '.npz'\n",
    "result_path = HOME + '/results/' + file_name + '.ann'\n",
    "\n",
    "Res = np.load(data_path)\n",
    "\n",
    "\n",
    "seqs = Res['seqs']\n",
    "vals = Res['vals']\n",
    "options = Res['options']\n",
    "\n",
    "Op = (options[()])\n",
    "if int(file_name[4:])>=7:\n",
    "    gene_lens = Res['gene_lens']\n",
    "    num_seqs = Res['num_seqs']\n",
    "else:\n",
    "    num_seqs = [Op.num_seq]*Op.repeat\n",
    "    \n",
    "print(Op)\n",
    "print('seq len = ', len(seqs[0]))\n",
    "print('num seqs = ', len(seqs))"
   ]
  },
  {
   "cell_type": "code",
   "execution_count": 7,
   "metadata": {},
   "outputs": [
    {
     "name": "stdout",
     "output_type": "stream",
     "text": [
      "computing the list of kmers and values \n"
     ]
    },
    {
     "name": "stderr",
     "output_type": "stream",
     "text": [
      "100%|██████████| 50/50 [00:00<00:00, 84.33it/s]\n"
     ]
    },
    {
     "name": "stdout",
     "output_type": "stream",
     "text": [
      " computing the projection\n"
     ]
    },
    {
     "name": "stderr",
     "output_type": "stream",
     "text": [
      "100%|██████████| 559685/559685 [00:00<00:00, 662106.42it/s]"
     ]
    },
    {
     "name": "stdout",
     "output_type": "stream",
     "text": [
      " computing the convolution\n"
     ]
    },
    {
     "name": "stderr",
     "output_type": "stream",
     "text": [
      "\n",
      "100%|██████████| 120/120 [00:04<00:00, 29.51it/s]\n"
     ]
    },
    {
     "name": "stdout",
     "output_type": "stream",
     "text": [
      "time to build 3 trees = 11.003252267837524\n",
      "nearest neighbours search:\n"
     ]
    },
    {
     "name": "stderr",
     "output_type": "stream",
     "text": [
      "100%|██████████| 559685/559685 [02:04<00:00, 4492.02it/s]"
     ]
    },
    {
     "name": "stdout",
     "output_type": "stream",
     "text": [
      "time search = 124.59715390205383\n"
     ]
    },
    {
     "name": "stderr",
     "output_type": "stream",
     "text": [
      "\n",
      "100%|██████████| 559685/559685 [01:25<00:00, 6511.99it/s]"
     ]
    },
    {
     "name": "stdout",
     "output_type": "stream",
     "text": [
      "evaluation time =  86.04927730560303\n",
      "folls possitive =  0.9966717888890939\n",
      "recall percentage  0.5902222222222222\n",
      "seq len =  11000 , num seqs =  50\n",
      "hit ratio:  0.0028082492830788747\n"
     ]
    },
    {
     "name": "stderr",
     "output_type": "stream",
     "text": [
      "\n"
     ]
    }
   ],
   "source": [
    "proj_dim = 120\n",
    "k_small = 2 \n",
    "k_big = 100\n",
    "num_trees = 3\n",
    "num_neighbours = 200\n",
    "step_index = 1\n",
    "step_search = 1\n",
    "\n",
    "\n",
    "kmers, s_kmer_vals, kmer_pos, kmer_seq_id = utility.list_kmers_simple(seqs, vals = vals,  \n",
    "                                         k = k_small, addy = True, padding = int(k_big))\n",
    "\n",
    "index_indices = np.array([i for i in range(0,len(kmers),step_index)])\n",
    "search_indices = np.array([i for i in range(0,len(kmers),step_search)])\n",
    "\n",
    "\n",
    "kmer_vals = utility.get_kmver_vals(s_kmer_vals, k_big)\n",
    "\n",
    "convolved = utility.random_projection(kmers, k_big, proj_dim)\n",
    "\n",
    "knn_index = utility.build_index(convolved, index_indices, num_trees)\n",
    "NN,NN_dist = utility.knn_search_value(knn_index, convolved[search_indices,:],index_indices,  num_neighbours)\n",
    "    \n",
    "quad = utility.eval_results(search_indices, NN, kmers, kmer_vals, kmer_pos, kmer_seq_id, num_seqs, options)\n",
    "\n",
    "print('seq len = ', len(seqs[0]), ', num seqs = ', len(seqs))\n",
    "\n",
    "print('hit ratio: ', len(quad)/len(search_indices)/num_neighbours)"
   ]
  },
  {
   "cell_type": "code",
   "execution_count": 29,
   "metadata": {},
   "outputs": [
    {
     "name": "stdout",
     "output_type": "stream",
     "text": [
      "[    0     5    10 ... 10980 10985 10990]\n"
     ]
    }
   ],
   "source": []
  },
  {
   "cell_type": "code",
   "execution_count": null,
   "metadata": {
    "collapsed": true
   },
   "outputs": [],
   "source": []
  }
 ],
 "metadata": {
  "kernelspec": {
   "display_name": "Python 3",
   "language": "python",
   "name": "python3"
  }
 },
 "nbformat": 4,
 "nbformat_minor": 2
}
