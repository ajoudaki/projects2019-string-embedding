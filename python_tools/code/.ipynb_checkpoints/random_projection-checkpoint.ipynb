{
 "cells": [
  {
   "cell_type": "code",
   "execution_count": 6,
   "metadata": {},
   "outputs": [
    {
     "name": "stdout",
     "output_type": "stream",
     "text": [
      "num seqs =  10  mean lenth of seqs =  900.2\n",
      "{'mutation_rate': 0.2, 'gene_len': 100, 'num_genes': 3, 'padding': 100, 'num_seq': 5, 'repeat': 2, 'colored': False, 'print_values': False, 'print_seqs': False, 'save_directory': '../data/seqs0'}\n"
     ]
    }
   ],
   "source": [
    "import utility \n",
    "import numpy as np\n",
    "from importlib import reload\n",
    "reload(utility)\n",
    "import sys, os, shutil\n",
    "import time\n",
    "from tqdm import tqdm\n",
    "import matplotlib.pyplot as pl\n",
    "from annoy import AnnoyIndex\n",
    "\n",
    "HOME = '/cluster/home/ajoudaki/projects2019-string-embedding/python_tools'\n",
    "\n",
    "file_name = 'seqs9'\n",
    "data_path = HOME + '/data/' + file_name + '.npz'\n",
    "result_path = HOME + '/results/' + file_name \n",
    "index_path = result_path + '/index/'\n",
    "search_path = result_path + '/search/'\n",
    "\n",
    "if not os.path.exists(result_path):\n",
    "    os.makedirs(result_path)\n",
    "if not os.path.exists(index_path):\n",
    "    os.makedirs(index_path)\n",
    "if not os.path.exists(search_path):\n",
    "    os.makedirs(search_path)\n",
    "\n",
    "\n",
    "Res = np.load(data_path)\n",
    "\n",
    "\n",
    "seqs = Res['seqs']\n",
    "vals = Res['vals']\n",
    "options = Res['options']\n",
    "Op = (options[()])\n",
    "if int(file_name[4:])>=7:\n",
    "    gene_lens = Res['gene_lens']\n",
    "    num_seqs = Res['num_seqs']\n",
    "else:\n",
    "    num_seqs = [Op.num_seq]*Op.repeat\n",
    "\n",
    "print('num seqs = ', len(seqs), ' mean lenth of seqs = ', np.mean([len(seqs[i]) for i in range(len(seqs))]))\n",
    "print(Op)"
   ]
  },
  {
   "cell_type": "code",
   "execution_count": 7,
   "metadata": {},
   "outputs": [
    {
     "name": "stdout",
     "output_type": "stream",
     "text": [
      "computing the list of kmers and values \n"
     ]
    },
    {
     "name": "stderr",
     "output_type": "stream",
     "text": [
      "100%|██████████| 10/10 [00:00<00:00, 866.31it/s]"
     ]
    },
    {
     "name": "stdout",
     "output_type": "stream",
     "text": [
      " computing the projection\n"
     ]
    },
    {
     "name": "stderr",
     "output_type": "stream",
     "text": [
      "\n",
      "100%|██████████| 10972/10972 [00:00<00:00, 564515.93it/s]"
     ]
    },
    {
     "name": "stdout",
     "output_type": "stream",
     "text": [
      " computing the convolution\n"
     ]
    },
    {
     "name": "stderr",
     "output_type": "stream",
     "text": [
      "\n",
      "100%|██████████| 120/120 [00:00<00:00, 2152.78it/s]"
     ]
    },
    {
     "name": "stdout",
     "output_type": "stream",
     "text": [
      "time to build 2 trees = 0.09444928169250488\n",
      "nearest neighbours search:\n"
     ]
    },
    {
     "name": "stderr",
     "output_type": "stream",
     "text": [
      "\n",
      "100%|██████████| 2195/2195 [00:00<00:00, 6884.65it/s]"
     ]
    },
    {
     "name": "stdout",
     "output_type": "stream",
     "text": [
      "time search = 0.32567381858825684\n"
     ]
    },
    {
     "name": "stderr",
     "output_type": "stream",
     "text": [
      "\n",
      "100%|██████████| 2195/2195 [00:00<00:00, 5161.94it/s]"
     ]
    },
    {
     "name": "stdout",
     "output_type": "stream",
     "text": [
      "evaluation time =  0.43284106254577637\n",
      "folls possitive =  0.947101192911079\n",
      "recall percentage  1.0\n",
      "hit ratio:  0.04359681093394077\n"
     ]
    },
    {
     "name": "stderr",
     "output_type": "stream",
     "text": [
      "\n"
     ]
    }
   ],
   "source": [
    "proj_dim = 120\n",
    "k_small = 4 \n",
    "k_big = 100\n",
    "num_trees = 2\n",
    "num_neighbours = 200\n",
    "step_build = 5\n",
    "step_search = 5\n",
    "metric = 'euclidean'\n",
    "\n",
    "\n",
    "kmers, s_kmer_vals, kmer_pos, kmer_seq_id = utility.list_kmers_simple(seqs, vals = vals,  \n",
    "                                         k = k_small, addy = True, padding = int(k_big))\n",
    "kmer_vals = utility.get_kmver_vals(s_kmer_vals, k_big)\n",
    "build_indices = np.arange(0,len(kmers),step_build)\n",
    "search_indices = np.arange(0,len(kmers),step_search)\n",
    "\n",
    "convolved = utility.random_projection(kmers, k_big, proj_dim)\n",
    "\n",
    "knn_index = utility.build_index(matrix = convolved, \n",
    "                                indices = build_indices, \n",
    "                                num_trees = num_trees, \n",
    "                                metric = metric, \n",
    "                                index_path = index_path + '0.ann')\n",
    "\n",
    "knn_index.save(index_path + '0.ann')\n",
    "index = AnnoyIndex(proj_dim, metric= metric) \n",
    "index.load(index_path + '0.ann')\n",
    "NN,NN_dist = utility.knn_search_value(knn_index, convolved, search_indices, num_neighbours)\n",
    "    \n",
    "quad = utility.eval_results(search_indices, NN, kmers, kmer_vals, kmer_pos, kmer_seq_id, num_seqs, options)\n",
    "\n",
    "\n",
    "print('hit ratio: ', len(quad)/len(search_indices)/num_neighbours)"
   ]
  },
  {
   "cell_type": "code",
   "execution_count": null,
   "metadata": {
    "collapsed": true
   },
   "outputs": [],
   "source": [
    "# print(Op)"
   ]
  }
 ],
 "metadata": {
  "kernelspec": {
   "display_name": "Python 3",
   "language": "python",
   "name": "python3"
  },
  "language_info": {
   "codemirror_mode": {
    "name": "ipython",
    "version": 3
   },
   "file_extension": ".py",
   "mimetype": "text/x-python",
   "name": "python",
   "nbconvert_exporter": "python",
   "pygments_lexer": "ipython3",
   "version": "3.6.1"
  }
 },
 "nbformat": 4,
 "nbformat_minor": 2
}
