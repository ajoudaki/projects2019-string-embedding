{
 "cells": [
  {
   "cell_type": "code",
   "execution_count": 56,
   "metadata": {
    "collapsed": true
   },
   "outputs": [],
   "source": [
    "import numpy as np\n",
    "\n",
    "import matplotlib.pyplot as plt\n",
    "import numpy as np\n"
   ]
  },
  {
   "cell_type": "markdown",
   "metadata": {},
   "source": [
    "### "
   ]
  },
  {
   "cell_type": "code",
   "execution_count": 57,
   "metadata": {},
   "outputs": [
    {
     "name": "stderr",
     "output_type": "stream",
     "text": [
      "/cluster/home/ajoudaki/anaconda3/lib/python3.6/site-packages/matplotlib/axes/_axes.py:545: UserWarning: No labelled objects found. Use label='...' kwarg on individual plots.\n",
      "  warnings.warn(\"No labelled objects found. \"\n"
     ]
    },
    {
     "data": {
      "image/png": "[encoded data removed]",
      "text/plain": [
       "<matplotlib.figure.Figure at 0x2ab2b6303470>"
      ]
     },
     "metadata": {},
     "output_type": "display_data"
    },
    {
     "data": {
      "image/png": "[encoded data removed]",
      "text/plain": [
       "<matplotlib.figure.Figure at 0x2ab2b5cd9588>"
      ]
     },
     "metadata": {},
     "output_type": "display_data"
    },
    {
     "data": {
      "image/png": "[encoded data removed]",
      "text/plain": [
       "<matplotlib.figure.Figure at 0x2ab2b6239d68>"
      ]
     },
     "metadata": {},
     "output_type": "display_data"
    }
   ],
   "source": [
    "\n",
    "diffs = np.loadtxt('tmp/res.txt',skiprows=1,delimiter=',')\n",
    "# print(text)\n",
    "\n",
    "\n",
    "x = diffs[:,0]\n",
    "\n",
    "for i in range(1,4):\n",
    "    y = diffs[:,i]\n",
    "\n",
    "    plt.scatter(x, y, )\n",
    "    plt.xlabel(\"Leprechauns\")\n",
    "    plt.ylabel(\"Gold\")\n",
    "    plt.legend(loc='upper left')\n",
    "    plt.show()\n",
    "    "
   ]
  },
  {
   "cell_type": "code",
   "execution_count": 58,
   "metadata": {},
   "outputs": [
    {
     "data": {
      "text/plain": [
       "array([1.136  , 2.494  , 2.66   , 1.35   , 1.202  , 0.09534, 2.794  ,\n",
       "       1.44   , 0.6414 , 1.069  , 3.018  , 1.509  , 1.132  , 2.054  ,\n",
       "       1.195  , 0.     , 2.514  , 1.016  , 1.004  , 5.46   , 1.119  ,\n",
       "       3.019  , 1.799  , 1.153  , 1.278  , 2.749  , 1.713  , 1.844  ,\n",
       "       0.8742 , 1.005  , 3.354  , 0.6684 , 2.052  , 3.167  , 1.007  ,\n",
       "       0.     , 1.202  , 0.     , 1.888  , 3.938  , 1.759  , 1.857  ,\n",
       "       1.016  , 1.064  , 0.1899 , 2.498  , 0.     , 1.798  , 0.     ,\n",
       "       1.533  , 1.095  , 0.     , 2.65   , 1.289  , 2.197  , 3.413  ,\n",
       "       0.     , 1.312  , 1.041  , 1.281  , 0.     , 2.603  , 2.323  ,\n",
       "       0.4108 , 1.139  , 2.515  , 2.038  , 0.7315 , 1.654  , 1.533  ,\n",
       "       0.8559 , 0.6062 , 3.421  , 1.454  , 2.089  , 3.346  , 4.042  ,\n",
       "       2.985  , 1.07   , 1.239  , 2.446  , 0.     , 0.     , 1.987  ,\n",
       "       2.773  , 3.254  , 0.     , 0.8596 , 3.278  , 0.06261, 4.645  ,\n",
       "       0.4627 , 1.47   , 2.834  , 2.49   , 0.9082 , 1.013  , 0.     ,\n",
       "       1.587  , 1.493  ])"
      ]
     },
     "execution_count": 58,
     "metadata": {},
     "output_type": "execute_result"
    }
   ],
   "source": [
    "y[:]"
   ]
  },
  {
   "cell_type": "code",
   "execution_count": null,
   "metadata": {
    "collapsed": true
   },
   "outputs": [],
   "source": []
  },
  {
   "cell_type": "code",
   "execution_count": null,
   "metadata": {
    "collapsed": true
   },
   "outputs": [],
   "source": []
  }
 ],
 "metadata": {
  "kernelspec": {
   "display_name": "Python 3",
   "language": "python",
   "name": "python3"
  },
  "language_info": {
   "codemirror_mode": {
    "name": "ipython",
    "version": 3
   },
   "file_extension": ".py",
   "mimetype": "text/x-python",
   "name": "python",
   "nbconvert_exporter": "python",
   "pygments_lexer": "ipython3",
   "version": "3.6.8"
  }
 },
 "nbformat": 4,
 "nbformat_minor": 2
}
