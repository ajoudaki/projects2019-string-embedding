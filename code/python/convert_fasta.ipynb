{
 "cells": [
  {
   "cell_type": "code",
   "execution_count": 86,
   "metadata": {},
   "outputs": [],
   "source": [
    "# commands to generate datasets to be converted here (maybe lower the memroy)\n",
    "#  bsub -R \"rusage[mem=250000]\" -W 24:00 \n",
    "#./a.out --gene-len 100 --gene-len2 2000 -G 100 -P 10000 -n 3 -r 2 --geometric-p .5 -m .1 -r 4 -f data1\n",
    "#./a.out --gene-len 100 --gene-len2 2000 -G 3000 -P 55000 -n 5 -r 3 --geometric-p .34 -m .1 -r 4 -f data16\n",
    "#./a.out --gene-len 100 --gene-len2 2000 -G 6000 -P 55000 -n 5 -r 3 --geometric-p .34 -m .1 -r 4 -f data17\n",
    "#./a.out --gene-len 100 --gene-len2 2000 -G 12000 -P 55000 -n 5 -r 3 --geometric-p .34 -m .1 -r 4 -f data18\n",
    "\n",
    "import numpy as np\n",
    "import glob\n",
    "from attrdict import AttrDict\n",
    "import utility\n",
    "\n",
    "file_name = 'data1'\n",
    "proj_dir = utility.proj_dir() + '/data/fasta/'\n",
    "datadir = proj_dir + file_name\n",
    "\n",
    "# read maf file \n",
    "fasta_files = glob.glob(datadir+'/seqs*.fa')\n",
    "N = len(fasta_files)\n",
    "genes = [[] for i in range(N)]\n",
    "maf_file = open(datadir + '/MSA.maf','r')\n",
    "line = maf_file.readline()\n",
    "while '===' not in line:\n",
    "    if line[0]=='s':\n",
    "        line = maf_file.readline()\n",
    "        continue\n",
    "    seq, g, s, l = [int(i) for i in line.split()]\n",
    "    genes[seq].append([g, s, l])\n",
    "    line = maf_file.readline()\n",
    "    \n",
    "# read fasta files and fill the values \n",
    "seqs = []\n",
    "vals = []\n",
    "\n",
    "for i in range(N):\n",
    "    f = open(fasta_files[i])\n",
    "    f.readline()\n",
    "    seq = f.readline()[:-1]\n",
    "    L = len(seq)\n",
    "    val = np.zeros(L, dtype=np.uint32)\n",
    "    for gene in genes[i]:\n",
    "        gc, s, l = gene\n",
    "        val[s:s+l] = gc\n",
    "    seqs.append(seq)\n",
    "    vals.append(val)\n",
    "    \n",
    "    \n",
    "    \n",
    "# read options file \n",
    "\n",
    "opts_files = open(datadir+'/options.txt')\n",
    "lines = opts_files.readlines()\n",
    "for line in lines:\n",
    "    if 'num_seqs' in line:\n",
    "        num_seqs = [int(i) for i in line.split()[1:]]\n",
    "    elif 'gene_lens' in line:\n",
    "        gene_lens = [int(i) for i in line.split()[1:]]\n",
    "    elif 'seq_options' in line:\n",
    "        opts = line.replace(',', ' ').replace('}','').replace('{','').split()[2:]\n",
    "        Dict = dict()\n",
    "        for i in range(int(len(opts)/2)):\n",
    "            key, val = opts[2*i:2*i +2]\n",
    "            if key in ['mutation_rate', 'geometric_p', 'reverse_p']:\n",
    "                Dict[key] = float(val)\n",
    "            elif key == 'file_name':\n",
    "                Dict['save_directory'] = val\n",
    "            else:\n",
    "                Dict[key] = int(val)\n",
    "Dict['num_seqs'] = num_seqs\n",
    "Dict['gene_lens'] = gene_lens\n",
    "options = AttrDict(Dict)    \n",
    "\n",
    "        \n",
    "# save the values\n",
    "np.savez(utility.proj_dir() + '/data/'+file_name+'.npz', seqs = seqs, vals = vals, num_seqs = num_seqs, gene_lens = gene_lens, options = Dict )"
   ]
  },
  {
   "cell_type": "code",
   "execution_count": 83,
   "metadata": {},
   "outputs": [
    {
     "name": "stdout",
     "output_type": "stream",
     "text": [
      "{'_default_factory': None, '_pass_key': False, '_recursive': True, '_mapping': {'mutation_rate': 0.1, 'gene_len': 100, 'num_genes': 5, 'padding': 200, 'num_seq': 5, 'repeat': 1, 'reverse_p': 0.0, 'gene_len2': 100, 'num_seq2': 5, 'geometric_p': 0.4, 'colored': 0, 'print_values': 0, 'print_seqs': 0, 'save_directory': 'tmp', 'num_seqs': [5], 'gene_lens': [100, 100, 100, 100, 100]}, 'mutation_rate': 0.1, 'gene_len': 100, 'num_genes': 5, 'padding': 200, 'num_seq': 5, 'repeat': 1, 'reverse_p': 0.0, 'gene_len2': 100, 'num_seq2': 5, 'geometric_p': 0.4, 'colored': 0, 'print_values': 0, 'print_seqs': 0, 'save_directory': 'tmp', 'num_seqs': [5], 'gene_lens': [100, 100, 100, 100, 100]}\n"
     ]
    }
   ],
   "source": [
    "print(options.__dict__)"
   ]
  },
  {
   "cell_type": "code",
   "execution_count": 72,
   "metadata": {},
   "outputs": [
    {
     "name": "stdout",
     "output_type": "stream",
     "text": [
      "{'mutation_rate': 0.1, 'gene_len': 100, 'num_genes': 6000, 'padding': 15000, 'num_seq': 5, 'repeat': 1, 'geometric_p': 0.33, 'reverse_p': 0, 'gene_len2': 1000, 'num_seq2': 5, 'colored': False, 'print_values': False, 'print_seqs': False, 'save_directory': '/cluster/work/grlab/share/databases/genomes/synthetic/data/seqs12'}\n"
     ]
    }
   ],
   "source": []
  },
  {
   "cell_type": "code",
   "execution_count": 73,
   "metadata": {},
   "outputs": [
    {
     "data": {
      "text/plain": [
       "{'colored': False,\n",
       " 'gene_len': 100,\n",
       " 'gene_len2': 1000,\n",
       " 'geometric_p': 0.33,\n",
       " 'mutation_rate': 0.1,\n",
       " 'num_genes': 6000,\n",
       " 'num_seq': 5,\n",
       " 'num_seq2': 5,\n",
       " 'padding': 15000,\n",
       " 'print_seqs': False,\n",
       " 'print_values': False,\n",
       " 'repeat': 1,\n",
       " 'reverse_p': 0,\n",
       " 'save_directory': '/cluster/work/grlab/share/databases/genomes/synthetic/data/seqs12'}"
      ]
     },
     "execution_count": 73,
     "metadata": {},
     "output_type": "execute_result"
    }
   ],
   "source": []
  },
  {
   "cell_type": "code",
   "execution_count": 75,
   "metadata": {},
   "outputs": [
    {
     "data": {
      "text/plain": [
       "{'_default_factory': None,\n",
       " '_mapping': {'colored': 0,\n",
       "  'gene_len': 100,\n",
       "  'gene_len2': 100,\n",
       "  'gene_lens': [100, 100, 100, 100, 100],\n",
       "  'geometric_p': 0.4,\n",
       "  'mutation_rate': 0.1,\n",
       "  'num_genes': 5,\n",
       "  'num_seq': 5,\n",
       "  'num_seq2': 5,\n",
       "  'num_seqs': [5],\n",
       "  'padding': 200,\n",
       "  'print_seqs': 0,\n",
       "  'print_values': 0,\n",
       "  'repeat': 1,\n",
       "  'reverse_p': 0.0,\n",
       "  'save_directory': 'tmp'},\n",
       " '_pass_key': False,\n",
       " '_recursive': True,\n",
       " 'colored': 0,\n",
       " 'gene_len': 100,\n",
       " 'gene_len2': 100,\n",
       " 'gene_lens': [100, 100, 100, 100, 100],\n",
       " 'geometric_p': 0.4,\n",
       " 'mutation_rate': 0.1,\n",
       " 'num_genes': 5,\n",
       " 'num_seq': 5,\n",
       " 'num_seq2': 5,\n",
       " 'num_seqs': [5],\n",
       " 'padding': 200,\n",
       " 'print_seqs': 0,\n",
       " 'print_values': 0,\n",
       " 'repeat': 1,\n",
       " 'reverse_p': 0.0,\n",
       " 'save_directory': 'tmp'}"
      ]
     },
     "execution_count": 75,
     "metadata": {},
     "output_type": "execute_result"
    }
   ],
   "source": []
  },
  {
   "cell_type": "code",
   "execution_count": null,
   "metadata": {},
   "outputs": [],
   "source": []
  },
  {
   "cell_type": "code",
   "execution_count": null,
   "metadata": {
    "collapsed": true
   },
   "outputs": [],
   "source": []
  }
 ],
 "metadata": {
  "kernelspec": {
   "display_name": "Python 3",
   "language": "python",
   "name": "python3"
  },
  "language_info": {
   "codemirror_mode": {
    "name": "ipython",
    "version": 3
   },
   "file_extension": ".py",
   "mimetype": "text/x-python",
   "name": "python",
   "nbconvert_exporter": "python",
   "pygments_lexer": "ipython3",
   "version": "3.6.1"
  }
 },
 "nbformat": 4,
 "nbformat_minor": 2
}
