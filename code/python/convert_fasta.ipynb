{
 "cells": [
  {
   "cell_type": "code",
   "execution_count": null,
   "metadata": {},
   "outputs": [],
   "source": [
    "# commands to generate datasets to be converted here (maybe lower the memroy)\n",
    "#  bsub -R \"rusage[mem=250000]\" -W 24:00 \n",
    "# bsub ./a.out --gene-len 100 --gene-len2 2000 -G 100 -P 10000 -n 3 -r 2 --geometric-p .5 -m .1  -f data1\n",
    "# bsub -R \"rusage[mem=99000]\" -W 24:00 ./a.out --gene-len 100 --gene-len2 2000 -G 3000 -P 55000 -n 3 -r 3 --geometric-p .34 -m .1  -f data16\n",
    "# bsub -R \"rusage[mem=200000]\" -W 24:00  ./a.out --gene-len 100 --gene-len2 2000 -G 6000 -P 55000 -n 3 -r 3 --geometric-p .34 -m .1  -f data17\n",
    "# bsub -R \"rusage[mem=250000]\" -W 24:00  ./a.out --gene-len 100 --gene-len2 2000 -G 12000 -P 55000 -n 3 -r 3 --geometric-p .34 -m .1 -f data18\n",
    "# bsub -R \"rusage[mem=500000]\" -W 24:00  ./a.out --gene-len 100 --gene-len2 3000 -G 24000 -P 55000 -n 3 -r 3 --geometric-p .34 -m .1 -f data19\n",
    "\n",
    "import numpy as np\n",
    "import glob\n",
    "from attrdict import AttrDict\n",
    "import utility\n",
    "\n",
    "file_name = 'data16'\n",
    "proj_dir = utility.proj_dir() + '/data/fasta/'\n",
    "datadir = proj_dir + file_name\n",
    "\n",
    "# read maf file \n",
    "fasta_files = glob.glob(datadir+'/seqs*.fa')\n",
    "N = len(fasta_files)\n",
    "genes = [[] for i in range(N)]\n",
    "maf_file = open(datadir + '/MSA.maf','r')\n",
    "line = maf_file.readline()\n",
    "while '===' not in line:\n",
    "    if line[0]=='s':\n",
    "        line = maf_file.readline()\n",
    "        continue\n",
    "    seq, g, s, l = [int(i) for i in line.split()]\n",
    "    genes[seq].append([g, s, l])\n",
    "    line = maf_file.readline()\n",
    "    \n",
    "# read fasta files and fill the values \n",
    "seqs = []\n",
    "vals = []\n",
    "\n",
    "for i in range(N):\n",
    "    f = open(fasta_files[i])\n",
    "    f.readline()\n",
    "    seq = f.readline()[:-1]\n",
    "    L = len(seq)\n",
    "    val = np.zeros(L, dtype=np.uint32)\n",
    "    for gene in genes[i]:\n",
    "        gc, s, l = gene\n",
    "        val[s:s+l] = gc\n",
    "    seqs.append(seq)\n",
    "    vals.append(val)\n",
    "    \n",
    "    \n",
    "    \n",
    "# read options file \n",
    "\n",
    "opts_files = open(datadir+'/options.txt')\n",
    "lines = opts_files.readlines()\n",
    "for line in lines:\n",
    "    if 'num_seqs' in line:\n",
    "        num_seqs = [int(i) for i in line.split()[1:]]\n",
    "    elif 'gene_lens' in line:\n",
    "        gene_lens = [int(i) for i in line.split()[1:]]\n",
    "    elif 'seq_options' in line:\n",
    "        opts = line.replace(',', ' ').replace('}','').replace('{','').split()[2:]\n",
    "        Dict = dict()\n",
    "        for i in range(int(len(opts)/2)):\n",
    "            key, val = opts[2*i:2*i +2]\n",
    "            if key in ['mutation_rate', 'geometric_p', 'reverse_p']:\n",
    "                Dict[key] = float(val)\n",
    "            elif key == 'file_name':\n",
    "                Dict['save_directory'] = val\n",
    "            else:\n",
    "                Dict[key] = int(val)\n",
    "Dict['num_seqs'] = num_seqs\n",
    "Dict['gene_lens'] = gene_lens\n",
    "options = AttrDict(Dict)    \n",
    "\n",
    "        \n",
    "# save the values\n",
    "np.savez(utility.proj_dir() + '/data/'+file_name+'.npz', seqs = seqs, vals = vals, num_seqs = num_seqs, gene_lens = gene_lens, options = Dict )"
   ]
  },
  {
   "cell_type": "code",
   "execution_count": null,
   "metadata": {},
   "outputs": [],
   "source": []
  },
  {
   "cell_type": "code",
   "execution_count": null,
   "metadata": {},
   "outputs": [],
   "source": []
  },
  {
   "cell_type": "code",
   "execution_count": null,
   "metadata": {},
   "outputs": [],
   "source": [
    "\n"
   ]
  },
  {
   "cell_type": "code",
   "execution_count": null,
   "metadata": {},
   "outputs": [],
   "source": [
    "import aggregate\n",
    "\n",
    "quads = aggregate.get_quads(12,'experimental/data1')\n",
    "\n",
    "genes = set()\n",
    "for q in quads:\n",
    "    genes.add(int(q[1][1]))\n",
    "print(genes)\n",
    "Gene_lens = [gene_lens[(g-1)% options.num_genes] for g in genes]\n",
    "import matplotlib.pyplot as plt\n",
    "print(sorted(Gene_lens))"
   ]
  },
  {
   "cell_type": "code",
   "execution_count": null,
   "metadata": {},
   "outputs": [],
   "source": [
    "len(quads)/(2*3*2*100)"
   ]
  },
  {
   "cell_type": "code",
   "execution_count": null,
   "metadata": {
    "collapsed": true
   },
   "outputs": [],
   "source": []
  }
 ],
 "metadata": {
  "kernelspec": {
   "display_name": "Python 3",
   "language": "python",
   "name": "python3"
  },
  "language_info": {
   "codemirror_mode": {
    "name": "ipython",
    "version": 3
   },
   "file_extension": ".py",
   "mimetype": "text/x-python",
   "name": "python",
   "nbconvert_exporter": "python",
   "pygments_lexer": "ipython3",
   "version": "3.6.1"
  }
 },
 "nbformat": 4,
 "nbformat_minor": 2
}
