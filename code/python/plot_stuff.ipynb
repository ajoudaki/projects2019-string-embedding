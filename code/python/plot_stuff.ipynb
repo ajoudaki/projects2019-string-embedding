{
 "cells": [
  {
   "cell_type": "code",
   "execution_count": 3,
   "metadata": {},
   "outputs": [],
   "source": [
    "import numpy as np\n",
    "\n",
    "import matplotlib.pyplot as plt\n",
    "import numpy as np\n",
    "from scipy.stats import spearmanr\n",
    "from sklearn import metrics"
   ]
  },
  {
   "cell_type": "markdown",
   "metadata": {},
   "source": [
    "### "
   ]
  },
  {
   "cell_type": "code",
   "execution_count": null,
   "metadata": {},
   "outputs": [],
   "source": [
    "diffs = np.loadtxt('../cpp/tmp/res.txt',skiprows=1,delimiter=',',dtype='str')\n",
    "\n",
    "th = 20\n",
    "x = diffs[:,2]\n",
    "x = list(map(float,x))\n",
    "x = np.array(x)\n",
    "methods = ['seq1','seq2','edit dist','tensor embed', 'tensor sketch', 'tensor eff.sketch', 'ordered min-hash']\n",
    "for i in range(3,7):\n",
    "    y = diffs[:,i]\n",
    "    y = list(map(float,y))\n",
    "    y = np.array(y)\n",
    "#     print(y)\n",
    "#     sr = spearmanr(x,y)\n",
    "#     print('rank corr = ', sr[0])\n",
    "#     fpr, tpr, thresholds = metrics.roc_curve(x>th, y)\n",
    "#     plt.plot(fpr,tpr,label=methods[i])\n",
    "# plt.legend()\n",
    "# plt.title('ED thrshold = '+ str(th))\n",
    "# plt.show()\n",
    "# for i in range(1,5):\n",
    "    plt.plot(x,y,'.')\n",
    "    plt.show()"
   ]
  },
  {
   "cell_type": "code",
   "execution_count": null,
   "metadata": {},
   "outputs": [],
   "source": [
    "for i in range(2,7):\n",
    "    plt.plot(diffs[:,2],diffs[:,i],'.')\n",
    "    plt.show()"
   ]
  },
  {
   "cell_type": "code",
   "execution_count": null,
   "metadata": {},
   "outputs": [],
   "source": [
    "plt.plot(diffs[:,1],diffs[:,1],'.')\n",
    "plt.show()"
   ]
  },
  {
   "cell_type": "code",
   "execution_count": null,
   "metadata": {
    "collapsed": true
   },
   "outputs": [],
   "source": []
  }
 ],
 "metadata": {
  "kernelspec": {
   "display_name": "Python 3",
   "language": "python",
   "name": "python3"
  },
  "language_info": {
   "codemirror_mode": {
    "name": "ipython",
    "version": 3
   },
   "file_extension": ".py",
   "mimetype": "text/x-python",
   "name": "python",
   "nbconvert_exporter": "python",
   "pygments_lexer": "ipython3",
   "version": "3.6.10"
  }
 },
 "nbformat": 4,
 "nbformat_minor": 2
}
