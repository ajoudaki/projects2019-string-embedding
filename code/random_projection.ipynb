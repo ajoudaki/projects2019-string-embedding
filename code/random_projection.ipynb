{
 "cells": [
  {
   "cell_type": "code",
   "execution_count": null,
   "metadata": {},
   "outputs": [
    {
     "name": "stdout",
     "output_type": "stream",
     "text": [
      "num seqs =  15  mean lenth of seqs =  19030009.2667\n",
      "{'mutation_rate': 0.1, 'gene_len': 100, 'num_genes': 1000, 'padding': 9000, 'num_seq': 5, 'repeat': 3, 'geometric_p': 0.4, 'reverse_p': 0, 'gene_len2': 2000, 'num_seq2': 5, 'colored': False, 'print_values': False, 'print_seqs': False, 'save_directory': '../data/seqs9'}\n"
     ]
    }
   ],
   "source": [
    "import utility \n",
    "import numpy as np\n",
    "from importlib import reload\n",
    "reload(utility)\n",
    "import sys, os, shutil\n",
    "import time\n",
    "from tqdm import tqdm\n",
    "import matplotlib.pyplot as pl\n",
    "from annoy import AnnoyIndex\n",
    "\n",
    "HOME = '/cluster/home/ajoudaki/projects2019-string-embedding/python_tools'\n",
    "\n",
    "file_name = 'seqs9'\n",
    "data_path = HOME + '/data/' + file_name + '.npz'\n",
    "result_path = HOME + '/results/' + file_name \n",
    "index_path = result_path + '/index/'\n",
    "search_path = result_path + '/search/'\n",
    "\n",
    "if not os.path.exists(result_path):\n",
    "    os.makedirs(result_path)\n",
    "if not os.path.exists(index_path):\n",
    "    os.makedirs(index_path)\n",
    "if not os.path.exists(search_path):\n",
    "    os.makedirs(search_path)\n",
    "\n",
    "\n",
    "Res = np.load(data_path)\n",
    "\n",
    "\n",
    "seqs = Res['seqs']\n",
    "vals = Res['vals']\n",
    "options = Res['options']\n",
    "Op = (options[()])\n",
    "if int(file_name[4:])>=7:\n",
    "    gene_lens = Res['gene_lens']\n",
    "    num_seqs = Res['num_seqs']\n",
    "else:\n",
    "    num_seqs = [Op.num_seq]*Op.repeat\n",
    "\n",
    "print('num seqs = ', len(seqs), ' mean lenth of seqs = ', np.mean([len(seqs[i]) for i in range(len(seqs))]))\n",
    "print(Op)"
   ]
  },
  {
   "cell_type": "code",
   "execution_count": null,
   "metadata": {},
   "outputs": [
    {
     "name": "stdout",
     "output_type": "stream",
     "text": [
      "computing the list of kmers and values \n"
     ]
    },
    {
     "name": "stderr",
     "output_type": "stream",
     "text": [
      "100%|██████████| 15/15 [03:33<00:00, 14.21s/it]\n"
     ]
    },
    {
     "name": "stdout",
     "output_type": "stream",
     "text": [
      " computing the projection\n"
     ]
    },
    {
     "name": "stderr",
     "output_type": "stream",
     "text": [
      "100%|██████████| 285453094/285453094 [06:23<00:00, 745293.19it/s]"
     ]
    },
    {
     "name": "stdout",
     "output_type": "stream",
     "text": [
      " computing the convolution\n"
     ]
    },
    {
     "name": "stderr",
     "output_type": "stream",
     "text": [
      "\n",
      "\r",
      "  0%|          | 0/120 [00:00<?, ?it/s]"
     ]
    }
   ],
   "source": [
    "proj_dim = 120\n",
    "k_small = 4 \n",
    "k_big = 100\n",
    "num_trees = 2\n",
    "num_neighbours = 200\n",
    "step_build = 5\n",
    "step_search = 5\n",
    "metric = 'euclidean'\n",
    "\n",
    "\n",
    "kmers, s_kmer_vals, kmer_pos, kmer_seq_id = utility.list_kmers_simple(seqs, vals = vals,  \n",
    "                                         k = k_small, addy = True, padding = int(k_big))\n",
    "kmer_vals = utility.get_kmver_vals(s_kmer_vals, k_big)\n",
    "build_indices = np.arange(0,len(kmers),step_build)\n",
    "search_indices = np.arange(0,len(kmers),step_search)\n",
    "\n",
    "convolved = utility.random_projection(kmers, k_big, proj_dim)\n",
    "\n",
    "knn_index = utility.build_index(matrix = convolved, \n",
    "                                indices = build_indices, \n",
    "                                num_trees = num_trees, \n",
    "                                metric = metric, \n",
    "                                index_path = index_path + '0.ann')\n",
    "\n",
    "knn_index.save(index_path + '0.ann')\n",
    "index = AnnoyIndex(proj_dim, metric= metric) \n",
    "index.load(index_path + '0.ann')\n",
    "NN,NN_dist = utility.knn_search_value(knn_index, convolved, search_indices, num_neighbours)\n",
    "    \n",
    "quad = utility.eval_results(search_indices, NN, kmers, kmer_vals, kmer_pos, kmer_seq_id, num_seqs, options)\n",
    "\n",
    "\n",
    "print('hit ratio: ', len(quad)/len(search_indices)/num_neighbours)"
   ]
  },
  {
   "cell_type": "code",
   "execution_count": null,
   "metadata": {
    "collapsed": true
   },
   "outputs": [],
   "source": [
    "# print(Op)"
   ]
  }
 ],
 "metadata": {
  "kernelspec": {
   "display_name": "Python 3",
   "language": "python",
   "name": "python3"
  },
  "language_info": {
   "codemirror_mode": {
    "name": "ipython",
    "version": 3
   },
   "file_extension": ".py",
   "mimetype": "text/x-python",
   "name": "python",
   "nbconvert_exporter": "python",
   "pygments_lexer": "ipython3",
   "version": "3.6.1"
  }
 },
 "nbformat": 4,
 "nbformat_minor": 2
}
